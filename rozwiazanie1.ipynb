{
 "cells": [
  {
   "cell_type": "markdown",
   "id": "intro",
   "metadata": {},
   "source": [
    "# Zadania - Wprowadzenie do fakultetu i narzędzi\n",
    "---"
   ]
  },
  {
   "cell_type": "markdown",
   "id": "c1",
   "metadata": {},
   "source": [
    "## Ćwiczenie 1: Pierwszy notatnik Jupyter"
   ]
  },
  {
   "cell_type": "code",
   "id": "c1a",
   "metadata": {},
   "execution_count": null,
   "outputs": [],
   "source": [
    "# Data: 2025-10-01\n",
    "# Imię: Jakub"
   ]
  },
  {
   "cell_type": "code",
   "id": "c1b",
   "metadata": {},
   "execution_count": null,
   "outputs": [],
   "source": [
    "print(\"Witaj na zajęciach z Pythona!\")"
   ]
  },
  {
   "cell_type": "markdown",
   "id": "c2",
   "metadata": {},
   "source": [
    "## Ćwiczenie 2: Eksploracja interfejsu Jupyter\n",
    "👉 Tu rozwiązanie polega na **eksperymentowaniu ręcznie** w interfejsie (zmiana trybu komórek, skróty klawiszowe itd.)."
   ]
  },
  {
   "cell_type": "markdown",
   "id": "c3",
   "metadata": {},
   "source": [
    "## Ćwiczenie 3: Struktura pliku Jupyter Notebook\n",
    "Plik `.ipynb` jest zapisany w formacie **JSON**. Możesz go otworzyć w edytorze tekstowym i zobaczyć strukturę: \n",
    "- `cells` → komórki kodu i markdown\n",
    "- `metadata` → metadane notatnika\n",
    "- `outputs` → wyniki wykonanych komórek\n",
    "\n",
    "👉 Rozwiązanie: właśnie oglądasz ten plik 🙂"
   ]
  },
  {
   "cell_type": "markdown",
   "id": "c4",
   "metadata": {},
   "source": [
    "## Ćwiczenie 4: Magiczne komendy IPython"
   ]
  },
  {
   "cell_type": "code",
   "id": "c4a",
   "metadata": {},
   "execution_count": null,
   "outputs": [],
   "source": [
    "%lsmagic"
   ]
  },
  {
   "cell_type": "code",
   "id": "c4b",
   "metadata": {},
   "execution_count": null,
   "outputs": [],
   "source": [
    "%quickref"
   ]
  },
  {
   "cell_type": "code",
   "id": "c4c",
   "metadata": {},
   "execution_count": null,
   "outputs": [],
   "source": [
    "x = 10\n",
    "y = [1,2,3]\n",
    "%who"
   ]
  },
  {
   "cell_type": "markdown",
   "id": "c5",
   "metadata": {},
   "source": [
    "## Ćwiczenie 5: Dokumentacja i podpowiedzi"
   ]
  },
  {
   "cell_type": "code",
   "id": "c5a",
   "metadata": {},
   "execution_count": null,
   "outputs": [],
   "source": [
    "print?\n",
    "len?"
   ]
  },
  {
   "cell_type": "code",
   "id": "c5b",
   "metadata": {},
   "execution_count": null,
   "outputs": [],
   "source": [
    "def moja_funkcja(a, b):\n",
    "    return a + b\n",
    "\n",
    "moja_funkcja??"
   ]
  },
  {
   "cell_type": "code",
   "id": "c5c",
   "metadata": {},
   "execution_count": null,
   "outputs": [],
   "source": [
    "lista = [1,2,3]\n",
    "lista."
   ]
  },
  {
   "cell_type": "markdown",
   "id": "c6",
   "metadata": {},
   "source": [
    "## Ćwiczenie 6: Pomiar czasu"
   ]
  },
  {
   "cell_type": "code",
   "id": "c6a",
   "metadata": {},
   "execution_count": null,
   "outputs": [],
   "source": [
    "%timeit [x**2 for x in range(1000)]"
   ]
  },
  {
   "cell_type": "code",
   "id": "c6b",
   "metadata": {},
   "execution_count": null,
   "outputs": [],
   "source": [
    "%%time\n",
    "result = []\n",
    "for i in range(1000):\n",
    "    result.append(i**2)"
   ]
  },
  {
   "cell_type": "markdown",
   "id": "c7",
   "metadata": {},
   "source": [
    "## Ćwiczenie 7: System plików"
   ]
  },
  {
   "cell_type": "code",
   "id": "c7a",
   "metadata": {},
   "execution_count": null,
   "outputs": [],
   "source": [
    "!ls"
   ]
  },
  {
   "cell_type": "code",
   "id": "c7b",
   "metadata": {},
   "execution_count": null,
   "outputs": [],
   "source": [
    "!mkdir dane"
   ]
  },
  {
   "cell_type": "code",
   "id": "c7c",
   "metadata": {},
   "execution_count": null,
   "outputs": [],
   "source": [
    "%pwd"
   ]
  },
  {
   "cell_type": "code",
   "id": "c7d",
   "metadata": {},
   "execution_count": null,
   "outputs": [],
   "source": [
    "%cd ~"
   ]
  },
  {
   "cell_type": "code",
   "id": "c7e",
   "metadata": {},
   "execution_count": null,
   "outputs": [],
   "source": [
    "!echo \"To jest plik testowy\" > test.txt\n",
    "!cat test.txt"
   ]
  },
  {
   "cell_type": "markdown",
   "id": "c8",
   "metadata": {},
   "source": [
    "## Ćwiczenie 8: Debugowanie i profilowanie"
   ]
  },
  {
   "cell_type": "code",
   "id": "c8a",
   "metadata": {},
   "execution_count": null,
   "outputs": [],
   "source": [
    "def dzielenie(a, b):\n",
    "    return a / b\n",
    "\n",
    "dzielenie(5,0)  # błąd ZeroDivisionError"
   ]
  },
  {
   "cell_type": "code",
   "id": "c8b",
   "metadata": {},
   "execution_count": null,
   "outputs": [],
   "source": [
    "%debug"
   ]
  },
  {
   "cell_type": "code",
   "id": "c8c",
   "metadata": {},
   "execution_count": null,
   "outputs": [],
   "source": [
    "%prun [x**2 for x in range(10000)]"
   ]
  },
  {
   "cell_type": "markdown",
   "id": "hw1",
   "metadata": {},
   "source": [
    "# Zadanie domowe 1: Instalacja Jupyter\n",
    "👉 Wymaga wykonania lokalnie według instrukcji."
   ]
  },
  {
   "cell_type": "markdown",
   "id": "hw2",
   "metadata": {},
   "source": [
    "# Zadanie domowe 2: Analiza danych w Jupyterze"
   ]
  },
  {
   "cell_type": "code",
   "id": "hw2a",
   "metadata": {},
   "execution_count": null,
   "outputs": [],
   "source": [
    "import pandas as pd\n",
    "import matplotlib.pyplot as plt\n",
    "\n",
    "# przykładowy zbiór danych iris (do pobrania z internetu lub sklearn)\n",
    "from sklearn.datasets import load_iris\n",
    "iris = load_iris(as_frame=True)\n",
    "df = iris.frame\n",
    "df.head()"
   ]
  },
  {
   "cell_type": "code",
   "id": "hw2b",
   "metadata": {},
   "execution_count": null,
   "outputs": [],
   "source": [
    "df.info()\n",
    "df.describe()"
   ]
  },
  {
   "cell_type": "code",
   "id": "hw2c",
   "metadata": {},
   "execution_count": null,
   "outputs": [],
   "source": [
    "df['target'].value_counts().plot(kind='bar')\n",
    "plt.title('Rozkład klas w zbiorze Iris')\n",
    "plt.show()"
   ]
  },
  {
   "cell_type": "markdown",
   "id": "summary",
   "metadata": {},
   "source": [
    "### Podsumowanie analizy:\n",
    "- Dane zawierają 3 klasy kwiatów irysów.\n",
    "- Cechy mają różne skale wartości (np. długość płatka vs szerokość działki).\n",
    "- Dane są dobrze zbalansowane.\n",
    "\n",
    "Możliwe dalsze badania: klasyfikacja ML, analiza PCA, wizualizacje 2D."
   ]
  }
 ],
 "metadata": {
  "kernelspec": {
   "name": "python3",
   "display_name": "Python 3",
   "language": "python"
  },
  "language_info": {
   "name": "python",
   "version": "3.10"
  }
 },
 "nbformat": 4,
 "nbformat_minor": 5
}