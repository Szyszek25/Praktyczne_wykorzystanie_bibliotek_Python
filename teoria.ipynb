{
  "cells": [
    {
      "cell_type": "markdown",
      "metadata": {},
      "source": [
        "---\n",
        "title: \"Wprowadzenie do fakultetu i narzędzi\"\n",
        "format:\n",
        "  html:\n",
        "    code-tools: true\n",
        "    code-copy: true\n",
        "    code-line-numbers: true\n",
        "    highlight-style: github\n",
        "---\n",
        "\n",
        "## Cel zajęć\n",
        "\n",
        "Witaj na zajęciach z praktycznego wykorzystania bibliotek Pythona w analizie danych i uczeniu maszynowym! W tym rozdziale zapoznasz się z programem przedmiotu, wymaganiami oraz podstawowymi narzędziami, z których będziemy korzystać.\n",
        "\n",
        "## Program przedmiotu\n",
        "\n",
        "Kurs podzielony jest na 5 głównych części:\n",
        "\n",
        "1. **Wprowadzenie do Pythona** (rozdziały 1-3)\n",
        "2. **NumPy - obliczenia numeryczne** (rozdziały 4-5)\n",
        "3. **Pandas - analiza danych** (rozdziały 6-10)\n",
        "4. **Wizualizacja danych** (rozdziały 11-13)\n",
        "5. **Wprowadzenie do uczenia maszynowego** (rozdziały 14-17)\n",
        "\n",
        "## Zasady zaliczenia:\n",
        "\n",
        "Zaliczenie przedmiotu opiera się na realizacji projektu końcowego, który obejmuje analizę danych i modelowanie z wykorzystaniem poznanych narzędzi i technik.\n",
        "\n",
        "### Projekt końcowy\n",
        "- **Forma**: Indywidualny lub w zespołach (maks. 3 osoby)\n",
        "- **Temat**: Dowolny, związany z analizą danych/uczeniem maszynowym\n",
        "- **Źródło danych**: Własne lub z dostępnych repozytoriów (np. Kaggle)\n",
        "\n",
        "### Kamienie milowe\n",
        "1. Wybór tematu i zespołu (do 4. tygodnia)\n",
        "2. Przesłanie wstępnej analizy danych (po rozdziałach z Pandas)\n",
        "3. Przesłanie wizualizacji danych (po rozdziałach z wizualizacją)\n",
        "4. Złożenie projektu końcowego\n",
        "\n",
        "### Konsultacje\n",
        "- Po każdym kamieniu milowym przewidziany jest czas na konsultacje\n",
        "- Możliwość prezentacji postępów dla chętnych\n",
        "- Aktywna komunikacja przez maila\n",
        "\n",
        "### Kryteria oceny (100% oceny końcowej):\n",
        "- **Jakość i złożoność rozwiązania** (40%)\n",
        "- **Dokumentacja kodu i wyników** (30%)\n",
        "- **Jakość kodu i zastosowane praktyki** (30%)\n",
        "\n",
        "### Ważne terminy\n",
        "- Ostateczny termin złożenia projektu: Na ostatnich zajęciach\n",
        "\n",
        "\n",
        "\n",
        "## Wprowadzenie do analizy danych i uczenia maszynowego\n",
        "\n",
        "### Czym jest analiza danych?\n",
        "Analiza danych to proces badania, czyszczenia, przekształcania i modelowania danych w celu odkrycia użytecznych informacji, wyciągania wniosków i wspomagania podejmowania decyzji. Jest to dziedzina z natury interdyscyplinarna, łącząca w sobie:\n",
        "\n",
        "- **Umiejętności statystyczne** - do analizy i interpretacji danych\n",
        "- **Kompetencje programistyczne** - do efektywnego przetwarzania danych\n",
        "- **Wiedzę merytoryczną** - z konkretnej dziedziny, której dane dotyczą\n",
        "\n",
        "Dzięki temu podejściu analityk danych może nie tylko przetwarzać dane, ale także odpowiednio je interpretować i wyciągać wartościowe wnioski dla danej dziedziny - czy to będzie medycyna, finanse, marketing, czy badania naukowe.\n",
        "\n",
        "### Czym jest uczenie maszynowe?\n",
        "Uczenie maszynowe to dziedzina sztucznej inteligencji, która pozwala systemom uczyć się na podstawie danych, identyfikować wzorce i podejmować decyzje przy minimalnej interwencji człowieka. W przeciwieństwie do tradycyjnego programowania, gdzie człowiek musi dokładnie określić reguły działania systemu, w uczeniu maszynowym algorytmy same znajdują optymalne rozwiązania na bazie danych im dostarczonym.\n",
        "\n",
        "Uczenie maszynowe znajduje zastosowanie w wielu dziedzinach, takich jak:\n",
        "- Rozpoznawanie mowy i obrazów\n",
        "- Systemy rekomendacyjne\n",
        "- Przetwarzanie języka naturalnego\n",
        "- Prognozowanie szeregów czasowych\n",
        "- Automatyzacja procesów decyzyjnych\n",
        "\n",
        "### Dlaczego Python w analizie danych i uczeniu maszynowym?\n",
        "\n",
        "Python stał się dominującym językiem w dziedzinie analizy danych i uczenia maszynowego, mimo że nie został pierwotnie zaprojektowany do tych celów. Jego sukces wynika z kilku kluczowych czynników:\n",
        "\n",
        "1. **Bogaty ekosystem bibliotek**\n",
        "   - **NumPy** - wydajne obliczenia numeryczne na dużych tablicach\n",
        "   - **Pandas** - zaawansowana analiza i manipulacja danymi\n",
        "   - **Matplotlib/Seaborn** - tworzenie zaawansowanych wizualizacji danych\n",
        "   - **Scikit-learn** - gotowe implementacje algorytmów uczenia maszynowego\n",
        "   - **TensorFlow/PyTorch** - głębokie uczenie maszynowe\n",
        "   - **Jupyter** - interaktywne środowisko do analizy danych i współpracy\n",
        "\n",
        "2. **Uniwersalność zastosowań**\n",
        "   - Możliwość zastosowania w różnych dziedzinach - od analizy finansowej po badania naukowe\n",
        "   - Integracja z innymi językami i narzędziami\n",
        "   - Bogata dokumentacja i wsparcie społeczności\n",
        "\n",
        "3. **Łatwość nauki i czytelność**\n",
        "   - Prosta i intuicyjna składnia, zbliżona do języka naturalnego\n",
        "   - Duża społeczność i bogate zasoby edukacyjne\n",
        "   - Uniwersalność - od prostych skryptów po zaawansowane systemy produkcyjne\n",
        "\n",
        "4. **Narzędzia do pracy z danymi**\n",
        "   - **Jupyter Notebook** - interaktywne środowisko łączące kod, wyniki i dokumentację\n",
        "   - **Google Colab** - darmowy dostęp do mocy obliczeniowej w chmurze\n",
        "   - **Anaconda** - kompleksowe środowisko do zarządzania pakietami i środowiskami\n",
        "\n",
        "### Czym jest Jupyter i dlaczego jest tak popularny w analizie danych?\n",
        "\n",
        "Jupyter Notebook (nazwa pochodzi od języków Julia, Python, R) to interaktywne środowisko programistyczne, które pozwala na łączenie kodu, wyników, wizualizacji i tekstu w jednym dokumencie. Jego główne zalety to:\n",
        "\n",
        "- **Interaktywność** - możliwość wykonywania kodu krok po kroku, co jest nieocenione podczas eksploracyjnej analizy danych\n",
        "- **Integracja kodu i dokumentacji** - możliwość łączenia kodu, wyników, wizualizacji i tekstu w jednym dokumencie\n",
        "- **Wielojęzyczność** - obsługa ponad 40 języków programowania\n",
        "- **Łatwe debugowanie** - możliwość testowania pojedynczych komórek kodu i natychmiastowego sprawdzania wyników\n",
        "- **Powtarzalność badań** - możliwość odtworzenia całej analizy od początku do końca\n",
        "- **Współpraca** - łatwe udostępnianie i współdzielenie notatników\n",
        "- **Rozszerzalność** - bogaty ekosystem rozszerzeń i wtyczek\n",
        "\n",
        "#### IPython - serce Jupytera\n",
        "\n",
        "Jupyter wyewoluował z IPythona (Interactive Python), który został stworzony przez Fernando Pereza w 2001 roku. IPython to rozszerzona powłoka Pythona, która oferuje:\n",
        "- Zaawansowane funkcje interaktywne\n",
        "- Wbudowaną dokumentację i podpowiedzi\n",
        "- Magiczne komendy (ang. magic commands) ułatwiające pracę z kodem\n",
        "- Integrację z systemem plików\n",
        "- Historię komend i dostęp do wcześniejszych wyników\n",
        "- Zawansowane opcje wyświetlania obiektów\n",
        "\n",
        "W naszym kursie będziemy często korzystać z Jupyter Notebook, ponieważ doskonale sprawdza się on w procesie eksploracyjnej analizy danych, prototypowania rozwiązań i prezentacji wyników. Jego interaktywna natura pozwala na szybsze zrozumienie danych i eksperymentowanie z różnymi podejściami.\n",
        "\n",
        "### Instalacja środowiska\n",
        "\n",
        "#### 1. Instalacja Pythona\n",
        "Zalecana wersja: Python 3.8+\n",
        "\n",
        "#### 2. Tworzenie środowiska wirtualnego polecane\n",
        "Instrukcje dla systemów linuxowych\n",
        "```bash\n",
        "# Tworzenie środowiska\n",
        "python -m venv .venv\n",
        "\n",
        "# Aktywacja (Linux/Mac)\n",
        "source .venv/bin/activate\n",
        "\n",
        "# Aktywacja (Windows)\n",
        ".\\\\.venv\\\\Scripts\\\\activate\n",
        "```\n",
        "\n",
        "#### 3. Instalacja wymaganych pakietów\n",
        "```bash\n",
        "pip install jupyter pandas numpy matplotlib seaborn scikit-learn\n",
        "```\n",
        "Jeżeli masz wymagane paczki w pliku requirements.txt to może je zainstalować za pomocą\n",
        "```bash\n",
        "pip install -r /path/to/requirements.txt\n",
        "```\n",
        "\n",
        "## Pierwszy notatnik Jupyter\n",
        "\n",
        "### Uruchomienie Jupyter notebook\n",
        "```bash\n",
        "jupyter notebook\n",
        "```\n",
        "\n",
        "### Podstawowe operacje w Jupyter:\n",
        "- **Nowy notatnik**: File -> New -> Notebook\n",
        "- **Uruchomienie komórki**: Shift + Enter\n",
        "- **Dodanie nowej komórki**: A (powyżej), B (poniżej)\n",
        "- **Usunięcie komórki**: D, D (dwukrotnie)\n",
        "- **Zmiana typu komórki**: M (markdown), Y (code)\n",
        "\n",
        "\n",
        "### Najważniejsze funkcje IPython w Jupyter:\n",
        "\n",
        "1. **Wbudowana dokumentacja**"
      ],
      "id": "77572111"
    },
    {
      "cell_type": "code",
      "metadata": {
        "md-indent": "   "
      },
      "source": [
        "# Wyświetlenie dokumentacji funkcji\n",
        "?len  # Wyświetla dokumentację"
      ],
      "id": "1446d1d8",
      "execution_count": null,
      "outputs": []
    },
    {
      "cell_type": "code",
      "metadata": {
        "md-indent": "   "
      },
      "source": [
        "??len  # Pokazuje kod źródłowy (jeśli dostępny)"
      ],
      "id": "4600e3ba",
      "execution_count": null,
      "outputs": []
    },
    {
      "cell_type": "code",
      "metadata": {
        "md-indent": "   "
      },
      "source": [
        "def f(a):\n",
        "   return 2*a"
      ],
      "id": "7c57a580",
      "execution_count": null,
      "outputs": []
    },
    {
      "cell_type": "code",
      "metadata": {
        "md-indent": "   "
      },
      "source": [
        "?f # Wyświetla dokumentację"
      ],
      "id": "c4970f20",
      "execution_count": null,
      "outputs": []
    },
    {
      "cell_type": "code",
      "metadata": {
        "md-indent": "   "
      },
      "source": [
        "??f # Pokazuje kod źródłowy (jeśli dostępny)"
      ],
      "id": "3882e0e8",
      "execution_count": null,
      "outputs": []
    },
    {
      "cell_type": "markdown",
      "metadata": {},
      "source": [
        "2. **Magiczne komendy**"
      ],
      "id": "1707b062"
    },
    {
      "cell_type": "code",
      "metadata": {
        "md-indent": "   "
      },
      "source": [
        "# Czas wykonania komórki\n",
        "%timeit [x**2 for x in range(1000)]"
      ],
      "id": "ebf79841",
      "execution_count": null,
      "outputs": []
    },
    {
      "cell_type": "markdown",
      "metadata": {},
      "source": [
        "   ```python\n",
        "   # Pomiar czasu całej komórki\n",
        "   %%time\n",
        "   result = []\n",
        "   for i in range(1000):\n",
        "       result.append(i**2)\n",
        "   \n",
        "   ```\n",
        "\n",
        "\n",
        "4. **Używanie shella w notebooku**"
      ],
      "id": "1fa4afce"
    },
    {
      "cell_type": "code",
      "metadata": {
        "md-indent": "   "
      },
      "source": [
        "# Listowanie plików\n",
        "!pip list"
      ],
      "id": "aa25030e",
      "execution_count": null,
      "outputs": []
    },
    {
      "cell_type": "markdown",
      "metadata": {},
      "source": [
        "5. **Debugowanie**\n",
        "   ```python\n",
        "   # Tryb debugowania\n",
        "   %debug  # Po wystąpieniu wyjątku\n",
        "   ```\n",
        "   odpala ipbd debuggera\n",
        "\n",
        "   # Profilowanie kodu"
      ],
      "id": "26a4fa0b"
    },
    {
      "cell_type": "code",
      "metadata": {
        "md-indent": "   "
      },
      "source": [
        "def suma(a):\n",
        "   temp = 0\n",
        "   for i in a:\n",
        "      temp+=i\n",
        "   return temp"
      ],
      "id": "974f9d5f",
      "execution_count": null,
      "outputs": []
    },
    {
      "cell_type": "code",
      "metadata": {
        "md-indent": "   "
      },
      "source": [
        "%prun suma([ i for i in range(1,1_000_000)])  # Profilowanie czasu wykonania"
      ],
      "id": "7b4ef3c8",
      "execution_count": null,
      "outputs": []
    },
    {
      "cell_type": "markdown",
      "metadata": {},
      "source": [
        "   ```python\n",
        "   %memit suma([ i for i in range(1,1_000_000)])  # Profilowanie zużycia pamięci\n",
        "   ```\n",
        "\n",
        "\n",
        "\n",
        "## Materiały dodatkowe\n",
        "\n",
        "1. [Dokumentacja Jupyter](https://jupyter.org/documentation)\n",
        "\n",
        "\n",
        "## Podsumowanie\n",
        "\n",
        "W tym rozdziale poznałeś podstawowe informacje o przedmiocie, zainstalowałeś niezbędne narzędzia i wykonałeś pierwsze operacje w Pythonie. W następnym rozdziale zagłębimy się w podstawy programowania w Pythonie ze szczególnym uwzględnieniem typów danych i struktur."
      ],
      "id": "ab750db0"
    }
  ],
  "metadata": {
    "kernelspec": {
      "name": "python3",
      "language": "python",
      "display_name": "Python 3 (ipykernel)",
      "path": "/usr/share/jupyter/kernels/python3"
    }
  },
  "nbformat": 4,
  "nbformat_minor": 5
}